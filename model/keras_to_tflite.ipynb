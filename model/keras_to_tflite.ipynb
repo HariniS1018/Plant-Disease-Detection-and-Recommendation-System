{
  "nbformat": 4,
  "nbformat_minor": 0,
  "metadata": {
    "colab": {
      "provenance": []
    },
    "kernelspec": {
      "name": "python3",
      "display_name": "Python 3"
    },
    "language_info": {
      "name": "python"
    }
  },
  "cells": [
    {
      "cell_type": "markdown",
      "source": [
        "### REFERENCE:\n",
        "* https://medium.com/@hellokhorshed/a-step-by-step-guide-to-convert-keras-model-to-tensorflow-lite-tflite-model-6c8d08707488"
      ],
      "metadata": {
        "id": "rqSRJ-vIJllr"
      }
    },
    {
      "cell_type": "code",
      "execution_count": 2,
      "metadata": {
        "id": "8ZuOpJ2L0qts"
      },
      "outputs": [],
      "source": [
        "import tensorflow as tf"
      ]
    },
    {
      "cell_type": "code",
      "source": [
        "from google.colab import drive\n",
        "\n",
        "drive.mount(\"/content/drive\")"
      ],
      "metadata": {
        "id": "BKaQiaay0rot",
        "colab": {
          "base_uri": "https://localhost:8080/"
        },
        "outputId": "d59a3101-90a2-448b-cef1-9546ad655679"
      },
      "execution_count": 2,
      "outputs": [
        {
          "output_type": "stream",
          "name": "stdout",
          "text": [
            "Mounted at /content/drive\n"
          ]
        }
      ]
    },
    {
      "cell_type": "code",
      "source": [
        "keras_model = tf.keras.models.load_model('/content/drive/MyDrive//Projects/Plant Disease Prediction/saved_models/93acc_da_groundnut_disease_model.keras')"
      ],
      "metadata": {
        "id": "D9OE6qAj0wZb"
      },
      "execution_count": 3,
      "outputs": []
    },
    {
      "cell_type": "code",
      "source": [
        "converter = tf.lite.TFLiteConverter.from_keras_model(keras_model)\n",
        "tflite_model_v1 = converter.convert()"
      ],
      "metadata": {
        "id": "ZiDhPR6S03mz",
        "colab": {
          "base_uri": "https://localhost:8080/"
        },
        "outputId": "7ab45501-0124-466c-9f5a-2ca81a0a660e"
      },
      "execution_count": 6,
      "outputs": [
        {
          "output_type": "stream",
          "name": "stdout",
          "text": [
            "Saved artifact at '/tmp/tmp2g00p_f4'. The following endpoints are available:\n",
            "\n",
            "* Endpoint 'serve'\n",
            "  args_0 (POSITIONAL_ONLY): TensorSpec(shape=(None, 224, 224, 3), dtype=tf.float32, name='input_layer')\n",
            "Output Type:\n",
            "  TensorSpec(shape=(None, 5), dtype=tf.float32, name=None)\n",
            "Captures:\n",
            "  133939764097104: TensorSpec(shape=(), dtype=tf.resource, name=None)\n",
            "  133939764100944: TensorSpec(shape=(), dtype=tf.resource, name=None)\n",
            "  133939764100176: TensorSpec(shape=(), dtype=tf.resource, name=None)\n",
            "  133939759907856: TensorSpec(shape=(), dtype=tf.resource, name=None)\n",
            "  133939759909776: TensorSpec(shape=(), dtype=tf.resource, name=None)\n",
            "  133939759910544: TensorSpec(shape=(), dtype=tf.resource, name=None)\n",
            "  133939759909584: TensorSpec(shape=(), dtype=tf.resource, name=None)\n",
            "  133939759909200: TensorSpec(shape=(), dtype=tf.resource, name=None)\n",
            "  133939759910736: TensorSpec(shape=(), dtype=tf.resource, name=None)\n",
            "  133939759912656: TensorSpec(shape=(), dtype=tf.resource, name=None)\n"
          ]
        }
      ]
    },
    {
      "cell_type": "code",
      "source": [
        "destination_file_path = \"/content/drive/MyDrive//Projects/Plant Disease Prediction/saved_models/groundnut_disease_model.tflite\"\n",
        "with open(destination_file_path, 'wb') as f:\n",
        "  f.write(tflite_model_v1)"
      ],
      "metadata": {
        "id": "JfoFfDC307PL"
      },
      "execution_count": 8,
      "outputs": []
    },
    {
      "cell_type": "code",
      "source": [
        "import pickle\n",
        "import os\n",
        "\n",
        "# 1. Load the saved LabelEncoder:\n",
        "le_load_path = \"/content/drive/MyDrive//Projects/Plant Disease Prediction/saved_models/93acc_da_label_encoder.pkl\"\n",
        "\n",
        "try:\n",
        "    with open(le_load_path, \"rb\") as f:\n",
        "        loaded_encoder = pickle.load(f)\n",
        "\n",
        "    # 2. Extract the mapping (classes_):\n",
        "    label_mapping = loaded_encoder.classes_\n",
        "\n",
        "    # 3. Save ONLY the mapping:\n",
        "    mapping_save_path = \"/content/drive/MyDrive//Projects/Plant Disease Prediction/saved_models/93acc_label_mapping.pkl\"\n",
        "    with open(mapping_save_path, \"wb\") as f:\n",
        "        pickle.dump(label_mapping, f)\n",
        "\n",
        "    print(f\"Label mapping extracted and saved to: {mapping_save_path}\")\n",
        "\n",
        "except FileNotFoundError:\n",
        "    print(f\"Error: Label encoder file not found at {le_load_path}\")\n",
        "except Exception as e:\n",
        "    print(f\"An error occurred while loading label encoder: {e}\")"
      ],
      "metadata": {
        "colab": {
          "base_uri": "https://localhost:8080/"
        },
        "id": "CAt2DVSnUHDo",
        "outputId": "f1448965-5af3-4f55-b7bc-32f662bed7c6"
      },
      "execution_count": 12,
      "outputs": [
        {
          "output_type": "stream",
          "name": "stdout",
          "text": [
            "Label mapping extracted and saved to: /content/drive/MyDrive//Projects/Plant Disease Prediction/saved_models/93acc_label_mapping.pkl\n"
          ]
        }
      ]
    }
  ]
}