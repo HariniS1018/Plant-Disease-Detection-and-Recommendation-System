{
 "cells": [
  {
   "cell_type": "code",
   "execution_count": null,
   "metadata": {},
   "outputs": [],
   "source": [
    "# !python -m venv venv"
   ]
  },
  {
   "cell_type": "code",
   "execution_count": null,
   "metadata": {},
   "outputs": [],
   "source": [
    "# %pip install opencv-python matplotlib"
   ]
  },
  {
   "cell_type": "code",
   "execution_count": null,
   "metadata": {},
   "outputs": [],
   "source": [
    "%pip install scikit-learn"
   ]
  },
  {
   "cell_type": "code",
   "execution_count": 1,
   "metadata": {},
   "outputs": [],
   "source": [
    "import cv2"
   ]
  },
  {
   "cell_type": "code",
   "execution_count": 5,
   "metadata": {},
   "outputs": [
    {
     "data": {
      "text/plain": [
       "(256, 256, 3)"
      ]
     },
     "execution_count": 5,
     "metadata": {},
     "output_type": "execute_result"
    }
   ],
   "source": [
    "# Loading an image\n",
    "\n",
    "image = cv2.imread(\n",
    "    r\"D:\\Projects\\plant-disease-detection-recommendation-system\\dataset\\Groundnut_Leaf_dataset\\train\\early_leaf_spot_1\\4.jpg\"\n",
    ")\n",
    "# cv2.imshow(\"Image\", image)\n",
    "# cv2.waitKey(0)\n",
    "# cv2.destroyAllWindows()\n",
    "image.shape  # displays (height, width, no. of color channels)"
   ]
  },
  {
   "cell_type": "code",
   "execution_count": 16,
   "metadata": {},
   "outputs": [
    {
     "name": "stdout",
     "output_type": "stream",
     "text": [
      "Image Height: 256 pixels\n",
      "Image Width: 256 pixels\n",
      "Number of Channels: 3\n",
      "Image Size: 192.00 KB\n"
     ]
    }
   ],
   "source": [
    "import cv2\n",
    "\n",
    "image = cv2.imread(\n",
    "    r\"D:\\Projects\\plant-disease-detection-recommendation-system\\dataset\\Groundnut_Leaf_dataset\\train\\early_leaf_spot_1\\4.jpg\"\n",
    ")\n",
    "\n",
    "if image is not None:  # Check if the image was loaded successfully\n",
    "    height, width, channels = (\n",
    "        image.shape\n",
    "    )  # Get height, width, and number of color channels\n",
    "\n",
    "    print(f\"Image Height: {height} pixels\")\n",
    "    print(f\"Image Width: {width} pixels\")\n",
    "    print(f\"Number of Channels: {channels}\")  # Typically 3 for color images (BGR)\n",
    "\n",
    "    # Calculate total size in bytes:\n",
    "    image_size_bytes = height * width * channels\n",
    "    # print(f\"Image Size: {image_size_bytes} bytes\")\n",
    "\n",
    "    # Or to get size in kilobytes (KB):\n",
    "    image_size_kb = image_size_bytes / 1024\n",
    "    print(f\"Image Size: {image_size_kb:.2f} KB\")\n",
    "\n",
    "    # Or size in megabytes (MB):\n",
    "    # image_size_mb = image_size_kb / 1024\n",
    "    # print(f\"Image Size: {image_size_mb:.2f} MB\")\n",
    "\n",
    "else:\n",
    "    print(\"Error: Could not load the image.\")"
   ]
  },
  {
   "cell_type": "code",
   "execution_count": null,
   "metadata": {},
   "outputs": [
    {
     "name": "stdout",
     "output_type": "stream",
     "text": [
      "147.0\n",
      "Image Size: 147.00 KB\n"
     ]
    }
   ],
   "source": [
    "from sklearn.preprocessing import MinMaxScaler\n",
    "\n",
    "if image is not None:\n",
    "    img = cv2.resize(image, (224, 224))  # Resize\n",
    "\n",
    "    original_shape = img.shape\n",
    "    image_2d = img.reshape(-1, 3)\n",
    "    scaler = MinMaxScaler(feature_range=(0, 1))\n",
    "    normalized_2d = scaler.fit_transform(image_2d)\n",
    "    normalized_image = normalized_2d.reshape(original_shape)\n",
    "    # print(normalized_image.size)\n",
    "    normalized_image_size_bytes = normalized_image.size\n",
    "    normalized_image_size_kb = normalized_image_size_bytes / 1024\n",
    "    print(f\"Image Size: {image_size_kb:.2f} KB\")"
   ]
  },
  {
   "cell_type": "code",
   "execution_count": null,
   "metadata": {},
   "outputs": [],
   "source": [
    "# Grayscale conversion\n",
    "\n",
    "gray_img = cv2.cvtColor(image, cv2.COLOR_BGR2GRAY)\n",
    "cv2.imshow(\"Gray Image\", gray_img)\n",
    "cv2.waitKey(0)\n",
    "cv2.destroyAllWindows()\n",
    "gray_img.shape"
   ]
  },
  {
   "cell_type": "code",
   "execution_count": null,
   "metadata": {},
   "outputs": [],
   "source": [
    "# Resizing\n",
    "\n",
    "resized_gray_img = cv2.resize(gray_img, (224, 224))\n",
    "cv2.imshow(\"Resized Image\", resized_gray_img)\n",
    "cv2.waitKey(0)\n",
    "cv2.destroyAllWindows()\n",
    "resized_gray_img.shape"
   ]
  },
  {
   "cell_type": "code",
   "execution_count": null,
   "metadata": {},
   "outputs": [],
   "source": [
    "# Get the height and width of the image\n",
    "height, width = resized_gray_img.shape[:2]\n",
    "# print(\"height: \", height)\n",
    "# print(\"width: \", width)\n",
    "\n",
    "# Determine the size of the square (smallest dimension)\n",
    "# The square size is set to the smaller of the two dimensions (height or width) to ensure the crop fits within the image.\n",
    "size = min(height, width)\n",
    "# print(\"size: \", size)\n",
    "\n",
    "# Calculate the top-left coordinates of the square crop\n",
    "x = (width - size) // 2  # gives quotient\n",
    "y = (height - size) // 2\n",
    "# print(\"width starting point: \", x)\n",
    "# print(\"height starting point: \", y)\n",
    "\n",
    "# Perform the cropping\n",
    "cropped_resized_gray_img = resized_gray_img[\n",
    "    y : y + size, x : x + size\n",
    "]  # [from top-y to bottom-y, from left-x to right-y]\n",
    "\n",
    "# Save or display the cropped image\n",
    "cv2.imshow(\n",
    "    \"Cropped Resized Gray Image\", cropped_resized_gray_img\n",
    ")  # Display the cropped image\n",
    "cv2.waitKey(0)\n",
    "cv2.destroyAllWindows()"
   ]
  },
  {
   "cell_type": "code",
   "execution_count": null,
   "metadata": {},
   "outputs": [],
   "source": [
    "# Normalization\n",
    "\n",
    "print(f\"Min pixel value: {np.min(image)}\")\n",
    "print(f\"Max pixel value: {np.max(image)}\")\n",
    "print(f\"Data type: {image.dtype}\")\n",
    "print(\n",
    "    f\"Values out of range: {(image < 0).sum() + (image > 1).sum()}\"\n",
    ")  # here image is treated as array and then finds no. of values out of [0,1]\n",
    "\n",
    "# Dividing by 255\n",
    "normalized = image / 255.0\n",
    "\n",
    "# Check the min and max pixel values\n",
    "import numpy as np\n",
    "\n",
    "print(f\"Min pixel value: {np.min(normalized)}\")\n",
    "print(f\"Max pixel value: {np.max(normalized)}\")\n",
    "print(f\"Data type: {normalized.dtype}\")\n",
    "print(f\"Values out of range: {(normalized < 0).sum() + (normalized > 1).sum()}\")\n",
    "\n",
    "\n",
    "# Convert the normalized image to RGB format for visualization\n",
    "# import matplotlib.pyplot as plt\n",
    "# normalized_rgb = cv2.cvtColor(normalized, cv2.COLOR_BGR2RGB)\n",
    "# plt.imshow(normalized_rgb)\n",
    "# plt.title(\"Normalized Image\")\n",
    "# plt.axis(\"off\")\n",
    "# plt.show()"
   ]
  },
  {
   "cell_type": "markdown",
   "metadata": {},
   "source": [
    "The reshape method changes the shape of the array without changing its data.\n",
    "* -1: The -1 tells NumPy to automatically calculate the number of rows required, based on the total number of elements in the array and the other dimensions.\n",
    "Essentially, -1 acts as a placeholder for \"whatever fits.\"\n",
    "\n",
    "* 3: The second dimension is fixed to 3, which represents the RGB channels of the image (or BGR if using OpenCV).\n",
    "\n",
    "Why Use .reshape(-1, 3)?\n",
    "This transformation is commonly done to prepare image data for operations like Normalization or Scaling:\n",
    "* Easy to apply operations like MinMaxScaler from scikit-learn on a 2D array.\n",
    "* Many ML algorithms expect input in a 2D format where each row represents a sample (in this case, a pixel).\n"
   ]
  },
  {
   "cell_type": "code",
   "execution_count": null,
   "metadata": {},
   "outputs": [],
   "source": [
    "from sklearn.preprocessing import MinMaxScaler\n",
    "\n",
    "# Convert the image to a 2D array for normalization\n",
    "# Each pixel becomes a row, and its channel values (RGB) become columns\n",
    "original_shape = image.shape\n",
    "image_2d = image.reshape(-1, 3)\n",
    "\n",
    "# Normalize the pixel values to the range [0, 1] using MinMaxScaler\n",
    "scaler = MinMaxScaler(feature_range=(0, 1))\n",
    "normalized_2d = scaler.fit_transform(image_2d)\n",
    "\n",
    "# Reshape the normalized data back to the original image shape\n",
    "normalized_image = normalized_2d.reshape(original_shape)\n",
    "\n",
    "# Display the results\n",
    "print(f\"Original image shape: {image.shape}\")\n",
    "print(f\"Normalized image shape: {normalized_image.shape}\")\n",
    "\n",
    "cv2.imshow(\"Normalized Image\", normalized_image)  # Display the Normalized image\n",
    "cv2.waitKey(0)\n",
    "cv2.destroyAllWindows()"
   ]
  },
  {
   "cell_type": "code",
   "execution_count": null,
   "metadata": {},
   "outputs": [],
   "source": [
    "import cv2\n",
    "import matplotlib.pyplot as plt\n",
    "\n",
    "# Load a grayscale image\n",
    "img = cv2.imread(\"D:\\plant_disease_project\\low_contrast_img.jpeg\", cv2.IMREAD_GRAYSCALE)\n",
    "\n",
    "# Perform histogram equalization\n",
    "eq_img = cv2.equalizeHist(img)\n",
    "\n",
    "# Display the results\n",
    "plt.figure(figsize=(10, 5))\n",
    "plt.subplot(1, 2, 1)\n",
    "plt.title(\"Original Image\")\n",
    "plt.imshow(img, cmap=\"gray\")\n",
    "\n",
    "plt.subplot(1, 2, 2)\n",
    "plt.title(\"Histogram Equalized Image\")\n",
    "plt.imshow(eq_img, cmap=\"gray\")\n",
    "plt.show()"
   ]
  },
  {
   "cell_type": "code",
   "execution_count": null,
   "metadata": {},
   "outputs": [],
   "source": [
    "import cv2\n",
    "import numpy as np\n",
    "\n",
    "# Load a grayscale image\n",
    "img = cv2.imread(\"D:\\plant_disease_project\\low_contrast_img.jpeg\", cv2.IMREAD_GRAYSCALE)\n",
    "\n",
    "# Compute mean and standard deviation\n",
    "mean, std = cv2.meanStdDev(img)\n",
    "\n",
    "# Normalize the image to zero mean and unit variance\n",
    "std_img = (img - mean) / std\n",
    "\n",
    "cv2.imshow(\"Standardized image\", std_img)  # Display the cropped image\n",
    "cv2.waitKey(0)\n",
    "cv2.destroyAllWindows()\n",
    "\n",
    "# Verify normalization\n",
    "new_mean = np.mean(std_img)\n",
    "new_std = np.std(std_img)\n",
    "\n",
    "print(f\"Mean after normalization: {new_mean}\")\n",
    "print(f\"Standard deviation after normalization: {new_std}\")"
   ]
  },
  {
   "cell_type": "code",
   "execution_count": null,
   "metadata": {},
   "outputs": [],
   "source": [
    "import cv2\n",
    "from sklearn.preprocessing import MinMaxScaler\n",
    "\n",
    "img_path = (\n",
    "    r\"D:\\plant_disease_project\\Groundnut_Leaf_dataset\\train\\early_leaf_spot_1\\4.jpg\"\n",
    ")\n",
    "img = cv2.imread(img_path)\n",
    "if img is not None:\n",
    "    img = cv2.resize(img, (224, 224))  # Resize\n",
    "\n",
    "    height, width = img.shape[:2]\n",
    "    size = min(height, width)\n",
    "    x = (width - size) // 2  # gives quotient\n",
    "    y = (height - size) // 2\n",
    "    img = img[y : y + size, x : x + size]\n",
    "\n",
    "    original_shape = img.shape\n",
    "    image_2d = img.reshape(-1, 3)\n",
    "    scaler = MinMaxScaler(feature_range=(0, 1))\n",
    "    normalized_2d = scaler.fit_transform(image_2d)\n",
    "    normalized_image = normalized_2d.reshape(original_shape)"
   ]
  },
  {
   "cell_type": "code",
   "execution_count": null,
   "metadata": {},
   "outputs": [],
   "source": [
    "cv2.imshow(\"image\", img)  # Display the cropped image\n",
    "cv2.waitKey(0)\n",
    "cv2.destroyAllWindows()"
   ]
  }
 ],
 "metadata": {
  "kernelspec": {
   "display_name": "venv",
   "language": "python",
   "name": "python3"
  },
  "language_info": {
   "codemirror_mode": {
    "name": "ipython",
    "version": 3
   },
   "file_extension": ".py",
   "mimetype": "text/x-python",
   "name": "python",
   "nbconvert_exporter": "python",
   "pygments_lexer": "ipython3",
   "version": "3.12.5"
  }
 },
 "nbformat": 4,
 "nbformat_minor": 2
}
