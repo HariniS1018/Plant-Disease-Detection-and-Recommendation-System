{
  "nbformat": 4,
  "nbformat_minor": 0,
  "metadata": {
    "colab": {
      "provenance": []
    },
    "kernelspec": {
      "name": "python3",
      "display_name": "Python 3"
    },
    "language_info": {
      "name": "python"
    }
  },
  "cells": [
    {
      "cell_type": "markdown",
      "source": [
        "### REFERENCE:\n",
        "* https://medium.com/@hellokhorshed/a-step-by-step-guide-to-convert-keras-model-to-tensorflow-lite-tflite-model-6c8d08707488"
      ],
      "metadata": {
        "id": "rqSRJ-vIJllr"
      }
    },
    {
      "cell_type": "code",
      "execution_count": 1,
      "metadata": {
        "id": "8ZuOpJ2L0qts"
      },
      "outputs": [],
      "source": [
        "import tensorflow as tf"
      ]
    },
    {
      "cell_type": "code",
      "source": [
        "from google.colab import drive\n",
        "\n",
        "drive.mount(\"/content/drive\")"
      ],
      "metadata": {
        "id": "BKaQiaay0rot",
        "colab": {
          "base_uri": "https://localhost:8080/"
        },
        "outputId": "2d0f3760-7ccd-408a-8d94-15850820ca10"
      },
      "execution_count": 2,
      "outputs": [
        {
          "output_type": "stream",
          "name": "stdout",
          "text": [
            "Mounted at /content/drive\n"
          ]
        }
      ]
    },
    {
      "cell_type": "code",
      "source": [
        "keras_model = tf.keras.models.load_model('/content/drive/MyDrive//Projects/Plant Disease Prediction/saved_models/93acc_da_groundnut_disease_model.keras')"
      ],
      "metadata": {
        "id": "D9OE6qAj0wZb"
      },
      "execution_count": 3,
      "outputs": []
    },
    {
      "cell_type": "code",
      "source": [
        "converter = tf.lite.TFLiteConverter.from_keras_model(keras_model)\n",
        "converter.optimizations = [tf.lite.Optimize.DEFAULT]\n",
        "tflite_model_v2 = converter.convert()"
      ],
      "metadata": {
        "id": "ZiDhPR6S03mz",
        "colab": {
          "base_uri": "https://localhost:8080/"
        },
        "outputId": "b6b58ed0-d179-46ad-9f52-02123e29fbb8"
      },
      "execution_count": 4,
      "outputs": [
        {
          "output_type": "stream",
          "name": "stdout",
          "text": [
            "Saved artifact at '/tmp/tmphhqeykcu'. The following endpoints are available:\n",
            "\n",
            "* Endpoint 'serve'\n",
            "  args_0 (POSITIONAL_ONLY): TensorSpec(shape=(None, 224, 224, 3), dtype=tf.float32, name='input_layer')\n",
            "Output Type:\n",
            "  TensorSpec(shape=(None, 5), dtype=tf.float32, name=None)\n",
            "Captures:\n",
            "  135832830047248: TensorSpec(shape=(), dtype=tf.resource, name=None)\n",
            "  135832830050128: TensorSpec(shape=(), dtype=tf.resource, name=None)\n",
            "  135832825447248: TensorSpec(shape=(), dtype=tf.resource, name=None)\n",
            "  135832825448016: TensorSpec(shape=(), dtype=tf.resource, name=None)\n",
            "  135832825450320: TensorSpec(shape=(), dtype=tf.resource, name=None)\n",
            "  135832825451088: TensorSpec(shape=(), dtype=tf.resource, name=None)\n",
            "  135832825450128: TensorSpec(shape=(), dtype=tf.resource, name=None)\n",
            "  135832825449744: TensorSpec(shape=(), dtype=tf.resource, name=None)\n",
            "  135832825451280: TensorSpec(shape=(), dtype=tf.resource, name=None)\n",
            "  135832825453200: TensorSpec(shape=(), dtype=tf.resource, name=None)\n"
          ]
        }
      ]
    },
    {
      "cell_type": "code",
      "source": [
        "destination_file_path = \"/content/drive/MyDrive//Projects/Plant Disease Prediction/saved_models/groundnut_disease_model_v2.tflite\"\n",
        "with open(destination_file_path, 'wb') as f:\n",
        "  f.write(tflite_model_v2)"
      ],
      "metadata": {
        "id": "JfoFfDC307PL"
      },
      "execution_count": 5,
      "outputs": []
    },
    {
      "cell_type": "code",
      "source": [
        "import pickle\n",
        "import os\n",
        "\n",
        "# 1. Load the saved LabelEncoder:\n",
        "le_load_path = \"/content/drive/MyDrive//Projects/Plant Disease Prediction/saved_models/93acc_da_label_encoder.pkl\"\n",
        "\n",
        "try:\n",
        "    with open(le_load_path, \"rb\") as f:\n",
        "        loaded_encoder = pickle.load(f)\n",
        "\n",
        "    # 2. Extract the mapping (classes_):\n",
        "    label_mapping = loaded_encoder.classes_\n",
        "\n",
        "    # 3. Save ONLY the mapping:\n",
        "    mapping_save_path = \"/content/drive/MyDrive//Projects/Plant Disease Prediction/saved_models/93acc_label_mapping.pkl\"\n",
        "    with open(mapping_save_path, \"wb\") as f:\n",
        "        pickle.dump(label_mapping, f)\n",
        "\n",
        "    print(f\"Label mapping extracted and saved to: {mapping_save_path}\")\n",
        "\n",
        "except FileNotFoundError:\n",
        "    print(f\"Error: Label encoder file not found at {le_load_path}\")\n",
        "except Exception as e:\n",
        "    print(f\"An error occurred while loading label encoder: {e}\")"
      ],
      "metadata": {
        "colab": {
          "base_uri": "https://localhost:8080/"
        },
        "id": "CAt2DVSnUHDo",
        "outputId": "f1448965-5af3-4f55-b7bc-32f662bed7c6"
      },
      "execution_count": null,
      "outputs": [
        {
          "output_type": "stream",
          "name": "stdout",
          "text": [
            "Label mapping extracted and saved to: /content/drive/MyDrive//Projects/Plant Disease Prediction/saved_models/93acc_label_mapping.pkl\n"
          ]
        }
      ]
    }
  ]
}